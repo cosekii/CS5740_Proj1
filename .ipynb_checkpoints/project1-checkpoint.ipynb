{
 "cells": [
  {
   "cell_type": "code",
   "execution_count": 125,
   "metadata": {
    "collapsed": true
   },
   "outputs": [],
   "source": [
    "from collections import defaultdict\n",
    "import operator\n",
    "import random\n",
    "import numpy as np\n",
    "\n",
    "def get_corpus(file):\n",
    "    corpus = []\n",
    "    f = open(file, 'r')\n",
    "    for line in f:\n",
    "        # append start word\n",
    "        new_line = ['<s>']\n",
    "        for word in line.split():\n",
    "            new_line.append(word.lower())\n",
    "        # append stop word\n",
    "        new_line.append('</s>')\n",
    "        corpus.append(new_line)\n",
    "    return corpus\n",
    "\n",
    "# the frequency of each word in the corpus, eg P(word = A)\n",
    "def get_unigram_freqs(corpus):\n",
    "    w_count = defaultdict(float)\n",
    "    total_count = 0\n",
    "    for line in corpus:\n",
    "        for word in line:\n",
    "            w_count[word.lower()] += 1\n",
    "            total_count += 1\n",
    "    for key in w_count:\n",
    "        w_count[key] /= (1.0 * total_count)  \n",
    "    return w_count\n",
    "\n",
    "# the frequency of each bigram in the corpus, eg P(B = key[1] | A = key[0])\n",
    "def get_bigram_freqs(corpus, unigram_freqs):\n",
    "    bi_count = defaultdict(float)\n",
    "    total_count = 0\n",
    "    for line in corpus:\n",
    "        for i in range(len(line) - 1):\n",
    "            bi_count[(line[i].lower(), line[i + 1].lower())] += 1\n",
    "            total_count += 1\n",
    "            \n",
    "    for key in bi_count:\n",
    "        bi_count[key] = (bi_count[key] * 1.0 / total_count) / unigram_freqs[key[0]]\n",
    "    return bi_count\n",
    "\n",
    "# generate the next random word using unigram model\n",
    "def get_next_word_unigram(corpus):\n",
    "    keys = [key for key in sorted(corpus, key=corpus.get)]\n",
    "    probs = [corpus[key] for key in sorted(corpus, key=corpus.get)]\n",
    "    return np.random.choice(keys, 1, probs)[0]\n",
    "    \n",
    "# generate the next random word using bigram model\n",
    "def get_next_word_bigram(sentence, corpus):\n",
    "    last_word = sentence[len(sentence) - 1]\n",
    "    candidates = defaultdict(float)\n",
    "    total_prob = 0.0\n",
    "    for key in corpus:\n",
    "        if key[0] == last_word:\n",
    "            candidates[key[1]] = corpus[key]\n",
    "            total_prob += corpus[key]\n",
    "    \n",
    "    for key in candidates:\n",
    "        candidates[key] /= total_prob\n",
    "    \n",
    "    keys = [key for key in sorted(candidates, key=candidates.get)]\n",
    "    probs = [candidates[key] for key in sorted(candidates, key=candidates.get)]\n",
    "    return np.random.choice(keys, 1, probs)[0]\n",
    "\n",
    "pos_file = 'SentimentDataset/Train/pos.txt'\n",
    "pos_corpus = get_corpus(pos_file)"
   ]
  },
  {
   "cell_type": "code",
   "execution_count": 126,
   "metadata": {
    "collapsed": true
   },
   "outputs": [],
   "source": [
    "pos_unigram_freqs = get_unigram_freqs(pos_corpus)\n",
    "#pos_unigram_freqs"
   ]
  },
  {
   "cell_type": "code",
   "execution_count": 127,
   "metadata": {
    "collapsed": true
   },
   "outputs": [],
   "source": [
    "pos_bigram_freqs = get_bigram_freqs(pos_corpus, pos_unigram_freqs)\n",
    "#pos_bigram_freqs"
   ]
  },
  {
   "cell_type": "code",
   "execution_count": 140,
   "metadata": {},
   "outputs": [
    {
     "name": "stdout",
     "output_type": "stream",
     "text": [
      "other status private category remembered feat speculation cooly dylan top-notch movie-going utilizing banking nightmare mothers apted reminds insights driver-esque griffiths\n"
     ]
    }
   ],
   "source": [
    "# Generate a sentence using unigram model\n",
    "def generate_unigram_sentence(length):\n",
    "    start = ['<s>']\n",
    "    for i in range(0, length):\n",
    "        nxt = get_next_word_unigram(pos_unigram_freqs)\n",
    "        if nxt == '</s>' or nxt == '.':\n",
    "            break\n",
    "        start.append(nxt)\n",
    "        \n",
    "    print(' '.join(start[1:]))\n",
    "\n",
    "generate_unigram_sentence(20)"
   ]
  },
  {
   "cell_type": "code",
   "execution_count": 141,
   "metadata": {},
   "outputs": [
    {
     "name": "stdout",
     "output_type": "stream",
     "text": [
      "reno himself and creating the impressive in on me no special p.o.v. camera work more playful paranoia\n"
     ]
    }
   ],
   "source": [
    "# Generate a sentence using bigram model\n",
    "def generate_bigram_sentence(length):\n",
    "    bi_start = ['<s>']\n",
    "    for i in range(0, length):\n",
    "        nxt = get_next_word_bigram(bi_start, pos_bigram_freqs)\n",
    "        if nxt == '</s>' or nxt == '.':\n",
    "            break\n",
    "        bi_start.append(nxt)\n",
    "\n",
    "    print(' '.join(bi_start[1:]))\n",
    "    \n",
    "generate_bigram_sentence(20)"
   ]
  },
  {
   "cell_type": "code",
   "execution_count": null,
   "metadata": {
    "collapsed": true
   },
   "outputs": [],
   "source": []
  }
 ],
 "metadata": {
  "kernelspec": {
   "display_name": "Python 3",
   "language": "python",
   "name": "python3"
  },
  "language_info": {
   "codemirror_mode": {
    "name": "ipython",
    "version": 3
   },
   "file_extension": ".py",
   "mimetype": "text/x-python",
   "name": "python",
   "nbconvert_exporter": "python",
   "pygments_lexer": "ipython3",
   "version": "3.6.1"
  }
 },
 "nbformat": 4,
 "nbformat_minor": 2
}
